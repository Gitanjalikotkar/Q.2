{
 "cells": [
  {
   "cell_type": "code",
   "execution_count": 1,
   "id": "ed383cea-f15a-40ad-ad54-53df4d46fc1a",
   "metadata": {},
   "outputs": [],
   "source": [
    "#Q2. Row Echelon Form:\n",
    "#Create a 5x5 matrix, A, with entries randomly chosen integers between 0 and 9.\n",
    "#To generate the random matrix, set the random seed as the last two digits of your roll number.\n",
    "#Reduce matrix A to its Row Echelon Form by performing elementary row operations"
   ]
  },
  {
   "cell_type": "code",
   "execution_count": 2,
   "id": "5edfc0aa-3a16-4168-bdf4-5279c9d16f02",
   "metadata": {},
   "outputs": [],
   "source": [
    "import numpy as np\n",
    "\n",
    "# Set the random seed based on the last two digits of your roll number\n",
    "roll_number_last_two_digits = 22  # Change this to your last two digits\n",
    "np.random.seed(22)\n"
   ]
  },
  {
   "cell_type": "code",
   "execution_count": 3,
   "id": "6306216c-9b79-4bee-96d7-03b5a55b7746",
   "metadata": {},
   "outputs": [
    {
     "name": "stdout",
     "output_type": "stream",
     "text": [
      "Matrix A:\n",
      "[[5 4 0 4 6]\n",
      " [6 4 8 4 2]\n",
      " [8 7 2 9 8]\n",
      " [8 5 4 2 2]\n",
      " [1 6 9 3 3]]\n"
     ]
    }
   ],
   "source": [
    "# Generate a 5x5 matrix A with random entries between 0 and 9\n",
    "A = np.random.randint(0, 10, size=(5, 5))\n",
    "print(\"Matrix A:\")\n",
    "print(A)"
   ]
  },
  {
   "cell_type": "code",
   "execution_count": 4,
   "id": "9aabff17-8e10-4cf5-b52c-4b4022bf1070",
   "metadata": {},
   "outputs": [],
   "source": [
    "# Function to perform elementary row operations to reduce matrix to row echelon form\n",
    "def row_echelon_form(matrix):\n",
    "    lead = 0\n",
    "    rowCount = len(matrix)\n",
    "    columnCount = len(matrix[0])\n",
    "    for r in range(rowCount):\n",
    "        if lead >= columnCount:\n",
    "            return\n",
    "        i = r\n",
    "        while matrix[i][lead] == 0:\n",
    "            i += 1\n",
    "            if i == rowCount:\n",
    "                i = r\n",
    "                lead += 1\n",
    "                if columnCount == lead:\n",
    "                    return\n",
    "        matrix[i], matrix[r] = matrix[r], matrix[i]\n",
    "        lv = matrix[r][lead]\n",
    "        matrix[r] = [mrx / float(lv) for mrx in matrix[r]]\n",
    "        for i in range(rowCount):\n",
    "            if i != r:\n",
    "                lv = matrix[i][lead]\n",
    "                matrix[i] = [iv - lv*rv for rv, iv in zip(matrix[r], matrix[i])]\n",
    "        lead += 1\n"
   ]
  },
  {
   "cell_type": "code",
   "execution_count": 5,
   "id": "927ac3b8-324a-474c-bd4c-5d74fc22e5e7",
   "metadata": {},
   "outputs": [
    {
     "name": "stdout",
     "output_type": "stream",
     "text": [
      "\n",
      "Row Echelon Form of Matrix A:\n",
      "[[1 0 0 0 0]\n",
      " [0 1 0 0 0]\n",
      " [0 0 1 0 0]\n",
      " [0 0 0 1 0]\n",
      " [0 0 0 0 1]]\n"
     ]
    }
   ],
   "source": [
    "# Reduce matrix A to row echelon form\n",
    "row_echelon_form(A)\n",
    "print(\"\\nRow Echelon Form of Matrix A:\")\n",
    "print(A)\n"
   ]
  },
  {
   "cell_type": "code",
   "execution_count": null,
   "id": "bdc1f7d3-abd6-4a12-89e8-095938a2b8db",
   "metadata": {},
   "outputs": [],
   "source": []
  },
  {
   "cell_type": "code",
   "execution_count": null,
   "id": "2d2d5c9a-e72b-4326-bdb6-fa68d4a426ba",
   "metadata": {},
   "outputs": [],
   "source": []
  },
  {
   "cell_type": "code",
   "execution_count": null,
   "id": "feb71df7-aff1-4676-a67a-561805c32eda",
   "metadata": {},
   "outputs": [],
   "source": []
  },
  {
   "cell_type": "code",
   "execution_count": null,
   "id": "5a45f67b-1b10-4fd3-b2de-88ba6a76509a",
   "metadata": {},
   "outputs": [],
   "source": []
  },
  {
   "cell_type": "code",
   "execution_count": null,
   "id": "63b5bcc4-e4e6-4e51-8426-8c7e84065507",
   "metadata": {},
   "outputs": [],
   "source": []
  }
 ],
 "metadata": {
  "kernelspec": {
   "display_name": "Python 3 (ipykernel)",
   "language": "python",
   "name": "python3"
  },
  "language_info": {
   "codemirror_mode": {
    "name": "ipython",
    "version": 3
   },
   "file_extension": ".py",
   "mimetype": "text/x-python",
   "name": "python",
   "nbconvert_exporter": "python",
   "pygments_lexer": "ipython3",
   "version": "3.11.7"
  }
 },
 "nbformat": 4,
 "nbformat_minor": 5
}
